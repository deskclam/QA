{
 "cells": [
  {
   "metadata": {
    "ExecuteTime": {
     "end_time": "2024-12-06T23:29:13.222193Z",
     "start_time": "2024-12-06T23:29:13.207208Z"
    }
   },
   "cell_type": "code",
   "source": [
    "#Lettura del file assets_dataset.csv\n",
    "File_Assets=open(\"assets_dataset.csv\", \"r\")\n",
    "File_Cov=open(\"./assets_cov_matrix.csv\", \"r\")\n",
    "AssVet = []\n",
    "for count, i in enumerate(File_Assets):\n",
    "    if count!=0:\n",
    "        id=i.split(\"_\")[1].split(\",\")[0]\n",
    "        num1=i.split(\",\")[1].strip()\n",
    "        num2=i.split(\",\")[2].strip()\n",
    "        AssVet.append([float(num1)*10,float(num2)*10])"
   ],
   "id": "b3a7253b36a9f772",
   "outputs": [],
   "execution_count": 14
  },
  {
   "metadata": {
    "ExecuteTime": {
     "end_time": "2024-12-06T23:29:16.246740Z",
     "start_time": "2024-12-06T23:29:16.134773Z"
    }
   },
   "cell_type": "code",
   "source": [
    "#Lettura del file assets_cov_matrix.csv\n",
    "MatCov=[]\n",
    "n=[]\n",
    "for count, i in enumerate(File_Cov):\n",
    "    if count!=0:\n",
    "        n=i.split(\",\")\n",
    "        for j in range(500-1):\n",
    "            n[j]=float(n[j+1])\n",
    "        MatCov.append(n)"
   ],
   "id": "9000e6d37a5c9298",
   "outputs": [],
   "execution_count": 15
  },
  {
   "metadata": {},
   "cell_type": "code",
   "outputs": [],
   "execution_count": null,
   "source": [
    "## conversion of every single float variable as array of bin variable\n",
    "## array dimension p=12\n",
    "def Discretization(p, prec, arr):\n",
    "    BinAssVet = [] #scomposizione binaria\n",
    "    for i in arr:\n",
    "        bin = []\n",
    "        num = i\n",
    "        k = p-1\n",
    "        while k>=0:\n",
    "            CurrVal = ((2 ** k) / prec) #\n",
    "            if num > CurrVal:\n",
    "                num = num - CurrVal\n",
    "                bin.append(1)\n",
    "            else:\n",
    "                bin.append(0)\n",
    "            k=k-1\n",
    "        ConvVal = 0\n",
    "        for j in range(len(bin)):\n",
    "            ConvVal = ConvVal + bin[p-j-1]*((2 ** j) / prec)\n",
    "        print(f\"{i}  {bin} errore {(i-ConvVal)}\")\n",
    "        ##print(f\"{bin}\")\n",
    "        BinAssVet.append(bin)\n",
    "    #print(arr)\n",
    "Discretization(12,10, [i[0] for i in AssVet])\n",
    "Discretization(12,10, [i[1] for i in AssVet])"
   ],
   "id": "ceaabeca1253ac66"
  },
  {
   "metadata": {},
   "cell_type": "code",
   "outputs": [],
   "execution_count": null,
   "source": [
    "import qubovert as QbVrt\n",
    "\n",
    "vars = [QbVrt.boolean_var(f'x{j}') for j in range(10)]\n",
    "model = QbVrt.QUBO()\n",
    "solution = QbVrt.anneal_qubo(model,  num_anneals=10)\n",
    "\n",
    "\n",
    "\n",
    "\n",
    "0,0,0,1,0"
   ],
   "id": "1bc0726772f75928"
  }
 ],
 "metadata": {
  "kernelspec": {
   "display_name": "Python 3",
   "language": "python",
   "name": "python3"
  },
  "language_info": {
   "codemirror_mode": {
    "name": "ipython",
    "version": 2
   },
   "file_extension": ".py",
   "mimetype": "text/x-python",
   "name": "python",
   "nbconvert_exporter": "python",
   "pygments_lexer": "ipython2",
   "version": "2.7.6"
  }
 },
 "nbformat": 4,
 "nbformat_minor": 5
}
