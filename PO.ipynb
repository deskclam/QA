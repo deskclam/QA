{
 "cells": [
  {
   "metadata": {
    "ExecuteTime": {
     "end_time": "2024-12-06T23:29:13.222193Z",
     "start_time": "2024-12-06T23:29:13.207208Z"
    }
   },
   "cell_type": "code",
   "source": [
    "#Lettura del file assets_dataset.csv\n",
    "File_Assets=open(\"assets_dataset.csv\", \"r\")\n",
    "File_Cov=open(\"./assets_cov_matrix.csv\", \"r\")\n",
    "vet = {}\n",
    "for count, i in enumerate(File_Assets):\n",
    "    if count!=0:\n",
    "        id=i.split(\"_\")[1].split(\",\")[0]\n",
    "        num1=i.split(\",\")[1].strip()\n",
    "        num2=i.split(\",\")[2].strip()\n",
    "        vet[int(id)]=[float(num1),float(num2)]"
   ],
   "id": "b3a7253b36a9f772",
   "outputs": [],
   "execution_count": 14
  },
  {
   "metadata": {
    "ExecuteTime": {
     "end_time": "2024-12-06T23:29:16.246740Z",
     "start_time": "2024-12-06T23:29:16.134773Z"
    }
   },
   "cell_type": "code",
   "source": [
    "#Lettura del file assets_cov_matrix.csv\n",
    "MatCov=[]\n",
    "n=[]\n",
    "for count, i in enumerate(File_Cov):\n",
    "    if count!=0:\n",
    "        n=i.split(\",\")\n",
    "        for j in range(500-1):\n",
    "            n[j]=float(n[j+1])\n",
    "        MatCov.append(n)"
   ],
   "id": "9000e6d37a5c9298",
   "outputs": [],
   "execution_count": 15
  },
  {
   "metadata": {
    "ExecuteTime": {
     "end_time": "2024-12-03T13:21:33.609812Z",
     "start_time": "2024-12-03T13:21:33.554243Z"
    }
   },
   "cell_type": "code",
   "outputs": [
    {
     "ename": "AttributeError",
     "evalue": "module 'qubovert' has no attribute 'anneal_qubo'",
     "output_type": "error",
     "traceback": [
      "\u001B[0;31m---------------------------------------------------------------------------\u001B[0m",
      "\u001B[0;31mAttributeError\u001B[0m                            Traceback (most recent call last)",
      "Cell \u001B[0;32mIn[10], line 5\u001B[0m\n\u001B[1;32m      3\u001B[0m \u001B[38;5;28mvars\u001B[39m \u001B[38;5;241m=\u001B[39m [QbVrt\u001B[38;5;241m.\u001B[39mboolean_var(\u001B[38;5;124mf\u001B[39m\u001B[38;5;124m'\u001B[39m\u001B[38;5;124mx\u001B[39m\u001B[38;5;132;01m{\u001B[39;00mj\u001B[38;5;132;01m}\u001B[39;00m\u001B[38;5;124m'\u001B[39m) \u001B[38;5;28;01mfor\u001B[39;00m j \u001B[38;5;129;01min\u001B[39;00m \u001B[38;5;28mrange\u001B[39m(\u001B[38;5;241m10\u001B[39m)]\n\u001B[1;32m      4\u001B[0m model \u001B[38;5;241m=\u001B[39m QbVrt\u001B[38;5;241m.\u001B[39mQUBO()\n\u001B[0;32m----> 5\u001B[0m solution \u001B[38;5;241m=\u001B[39m \u001B[43mQbVrt\u001B[49m\u001B[38;5;241;43m.\u001B[39;49m\u001B[43manneal_qubo\u001B[49m(model,  num_anneals\u001B[38;5;241m=\u001B[39m\u001B[38;5;241m10\u001B[39m)\n\u001B[1;32m     10\u001B[0m \u001B[38;5;241m0\u001B[39m,\u001B[38;5;241m0\u001B[39m,\u001B[38;5;241m0\u001B[39m,\u001B[38;5;241m1\u001B[39m,\u001B[38;5;241m0\u001B[39m\n",
      "\u001B[0;31mAttributeError\u001B[0m: module 'qubovert' has no attribute 'anneal_qubo'"
     ]
    }
   ],
   "execution_count": 10,
   "source": [
    "import qubovert as QbVrt\n",
    "\n",
    "vars = [QbVrt.boolean_var(f'x{j}') for j in range(10)]\n",
    "model = QbVrt.QUBO()\n",
    "solution = QbVrt.anneal_qubo(model,  num_anneals=10)\n",
    "\n",
    "\n",
    "\n",
    "\n",
    "0,0,0,1,0"
   ],
   "id": "bdf806d1189669aa"
  },
  {
   "metadata": {},
   "cell_type": "markdown",
   "source": "",
   "id": "cf16765134a40357"
  }
 ],
 "metadata": {
  "kernelspec": {
   "display_name": "Python 3",
   "language": "python",
   "name": "python3"
  },
  "language_info": {
   "codemirror_mode": {
    "name": "ipython",
    "version": 2
   },
   "file_extension": ".py",
   "mimetype": "text/x-python",
   "name": "python",
   "nbconvert_exporter": "python",
   "pygments_lexer": "ipython2",
   "version": "2.7.6"
  }
 },
 "nbformat": 4,
 "nbformat_minor": 5
}
