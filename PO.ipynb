{
 "cells": [
  {
   "cell_type": "code",
   "execution_count": 9,
   "id": "b3a7253b36a9f772",
   "metadata": {
    "ExecuteTime": {
     "end_time": "2024-12-06T23:29:13.222193Z",
     "start_time": "2024-12-06T23:29:13.207208Z"
    }
   },
   "outputs": [],
   "source": [
    "#Lettura del file assets_dataset.csv\n",
    "File_Assets=open(\"assets_dataset.csv\", \"r\")\n",
    "File_Cov=open(\"./assets_cov_matrix.csv\", \"r\")\n",
    "vet = {}\n",
    "for count, i in enumerate(File_Assets):\n",
    "    if count!=0:\n",
    "        id=i.split(\"_\")[1].split(\",\")[0]\n",
    "        num1=i.split(\",\")[1].strip()\n",
    "        num2=i.split(\",\")[2].strip()\n",
    "        vet[int(id)]=[float(num1),float(num2)]"
   ]
  },
  {
   "cell_type": "code",
   "execution_count": 10,
   "id": "9000e6d37a5c9298",
   "metadata": {
    "ExecuteTime": {
     "end_time": "2024-12-06T23:29:16.246740Z",
     "start_time": "2024-12-06T23:29:16.134773Z"
    }
   },
   "outputs": [],
   "source": [
    "#Lettura del file assets_cov_matrix.csv\n",
    "MatCov=[]\n",
    "n=[]\n",
    "for count, i in enumerate(File_Cov):\n",
    "    if count!=0:\n",
    "        n=i.split(\",\")\n",
    "        for j in range(500-1):\n",
    "            n[j]=float(n[j+1])\n",
    "        MatCov.append(n)"
   ]
  },
  {
   "cell_type": "code",
   "execution_count": 11,
   "id": "bdf806d1189669aa",
   "metadata": {
    "ExecuteTime": {
     "end_time": "2024-12-03T13:21:33.609812Z",
     "start_time": "2024-12-03T13:21:33.554243Z"
    }
   },
   "outputs": [
    {
     "data": {
      "text/plain": [
       "(0, 0, 0, 1, 0)"
      ]
     },
     "execution_count": 11,
     "metadata": {},
     "output_type": "execute_result"
    }
   ],
   "source": [
    "import qubovert as QbVrt\n",
    "from qubovert.sim import anneal_qubo\n",
    "\n",
    "vars = [QbVrt.boolean_var(f'x{j}') for j in range(10)]\n",
    "model = QbVrt.QUBO()\n",
    "solution = anneal_qubo(model,  num_anneals=10)\n",
    "\n",
    "\n",
    "\n",
    "\n",
    "0,0,0,1,0"
   ]
  },
  {
   "cell_type": "markdown",
   "id": "cf16765134a40357",
   "metadata": {},
   "source": []
  }
 ],
 "metadata": {
  "kernelspec": {
   "display_name": "Python 3",
   "language": "python",
   "name": "python3"
  },
  "language_info": {
   "codemirror_mode": {
    "name": "ipython",
    "version": 3
   },
   "file_extension": ".py",
   "mimetype": "text/x-python",
   "name": "python",
   "nbconvert_exporter": "python",
   "pygments_lexer": "ipython3",
   "version": "3.10.12"
  }
 },
 "nbformat": 4,
 "nbformat_minor": 5
}
