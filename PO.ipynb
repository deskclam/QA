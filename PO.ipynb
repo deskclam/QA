{
 "cells": [
  {
   "metadata": {},
   "cell_type": "markdown",
   "source": "## Lettura file",
   "id": "8ff7d4fe3dae25c7"
  },
  {
   "metadata": {},
   "cell_type": "markdown",
   "source": [
    "\n",
    "### Lettura del file assets_dataset.csv\n"
   ],
   "id": "4d67d96cc1ed7cda"
  },
  {
   "metadata": {
    "ExecuteTime": {
     "end_time": "2024-12-06T23:29:13.222193Z",
     "start_time": "2024-12-06T23:29:13.207208Z"
    }
   },
   "cell_type": "code",
   "outputs": [],
   "execution_count": 6,
   "source": [
    "File_Assets=open(\"assets_dataset.csv\", \"r\")\n",
    "File_Cov=open(\"./assets_cov_matrix.csv\", \"r\")\n",
    "AssVet = []\n",
    "for count, i in enumerate(File_Assets):\n",
    "    if count!=0:\n",
    "        id=i.split(\"_\")[1].split(\",\")[0]\n",
    "        num1=i.split(\",\")[1].strip()\n",
    "        num2=i.split(\",\")[2].strip()\n",
    "        AssVet.append([float(num1)*10,float(num2)*10])"
   ],
   "id": "b3a7253b36a9f772"
  },
  {
   "metadata": {},
   "cell_type": "markdown",
   "source": "### Lettura del file assets_cov_matrix.csv\n",
   "id": "e6a71e9ff768b47"
  },
  {
   "cell_type": "code",
   "execution_count": 7,
   "id": "9000e6d37a5c9298",
   "metadata": {
    "ExecuteTime": {
     "end_time": "2024-12-06T23:29:16.246740Z",
     "start_time": "2024-12-06T23:29:16.134773Z"
    }
   },
   "outputs": [],
   "source": [
    "#Lettura del file assets_cov_matrix.csv\n",
    "MatCov=[]\n",
    "n=[]\n",
    "for count, i in enumerate(File_Cov):\n",
    "    if count!=0:\n",
    "        n=i.split(\",\")\n",
    "        for j in range(500-1):\n",
    "            n[j]=float(n[j+1])\n",
    "        MatCov.append(n)"
   ]
  },
  {
   "metadata": {},
   "cell_type": "markdown",
   "source": "## Conversione delle variabili float in vettore di variabili binarie",
   "id": "c522499ede31af4a"
  },
  {
   "metadata": {},
   "cell_type": "code",
   "outputs": [],
   "execution_count": null,
   "source": [
    "def Discretization(p, prec, arr):\n",
    "    BinAssVet = [] #scomposizione binaria\n",
    "    for i in arr:\n",
    "        bin = []\n",
    "        num = i\n",
    "        k = p-1\n",
    "        while k>=0:\n",
    "            CurrVal = ((2 ** k) / prec) #\n",
    "            if num > CurrVal:\n",
    "                num = num - CurrVal\n",
    "                bin.append(1)\n",
    "            else:\n",
    "                bin.append(0)\n",
    "            k=k-1\n",
    "        ConvVal = 0\n",
    "        for j in range(len(bin)):\n",
    "            ConvVal = ConvVal + bin[p-j-1]*((2 ** j) / prec)\n",
    "        print(f\"{i}  {bin} errore {(i-ConvVal)}\")\n",
    "        ##print(f\"{bin}\")\n",
    "        BinAssVet.append(bin)\n",
    "    #print(arr)\n",
    "Discretization(12,10, [i[0] for i in AssVet])\n",
    "Discretization(12,10, [i[1] for i in AssVet])"
   ],
   "id": "7c1d4577c26581ae"
  },
  {
   "metadata": {},
   "cell_type": "code",
   "outputs": [],
   "execution_count": null,
   "source": [
    "import qubovert as QbVrt\n",
    "from qubovert.sim import anneal_qubo\n",
    "\n",
    "n_assets = 500\n",
    "precision = 12"
   ],
   "id": "071ba02a"
  },
  {
   "cell_type": "markdown",
   "id": "e3ccc922",
   "metadata": {},
   "source": [
    "## Proposed formulation [3.2]"
   ]
  },
  {
   "cell_type": "code",
   "execution_count": 13,
   "id": "bdf806d1189669aa",
   "metadata": {
    "ExecuteTime": {
     "end_time": "2024-12-03T13:21:33.609812Z",
     "start_time": "2024-12-03T13:21:33.554243Z"
    }
   },
   "outputs": [
    {
     "ename": "IndexError",
     "evalue": "list index out of range",
     "output_type": "error",
     "traceback": [
      "\u001B[0;31m---------------------------------------------------------------------------\u001B[0m",
      "\u001B[0;31mIndexError\u001B[0m                                Traceback (most recent call last)",
      "Cell \u001B[0;32mIn[13], line 28\u001B[0m\n\u001B[1;32m     26\u001B[0m         \u001B[38;5;28;01mfor\u001B[39;00m k \u001B[38;5;129;01min\u001B[39;00m \u001B[38;5;28mrange\u001B[39m(precision\u001B[38;5;241m-\u001B[39m\u001B[38;5;241m1\u001B[39m):\n\u001B[1;32m     27\u001B[0m             \u001B[38;5;28;01mfor\u001B[39;00m l \u001B[38;5;129;01min\u001B[39;00m \u001B[38;5;28mrange\u001B[39m(precision\u001B[38;5;241m-\u001B[39m\u001B[38;5;241m1\u001B[39m):\n\u001B[0;32m---> 28\u001B[0m                 model_H0\u001B[38;5;241m+\u001B[39m\u001B[38;5;241m=\u001B[39mMatCov[i][j]\u001B[38;5;241m*\u001B[39m(\u001B[43mcoeff\u001B[49m\u001B[43m[\u001B[49m\u001B[43mk\u001B[49m\u001B[43m]\u001B[49m)\n\u001B[1;32m     32\u001B[0m \u001B[38;5;66;03m#solution = anneal_qubo(model,  num_anneals=10)\u001B[39;00m\n\u001B[1;32m     37\u001B[0m \u001B[38;5;241m0\u001B[39m,\u001B[38;5;241m0\u001B[39m,\u001B[38;5;241m0\u001B[39m,\u001B[38;5;241m1\u001B[39m,\u001B[38;5;241m0\u001B[39m\n",
      "\u001B[0;31mIndexError\u001B[0m: list index out of range"
     ]
    }
   ],
   "source": [
    "\n",
    "\n",
    "\n",
    "#Creazione delle variabili booleane\n",
    "#x_i=1 se l'asset i è presente nel portafoglio, x_i=0 altrimenti\n",
    "def create_boolean_variables(n_assets):\n",
    "    # Creazione della matrice delle variabili booleane, inizializzate a None\n",
    "    var_matrix = vars = [[None for j in range(n_assets)] for i in range(n_assets)]\n",
    "    for i in range(n_assets):\n",
    "        for j in range (n_assets):\n",
    "            var = QbVrt.boolean_var(f\"x_{i}{j}\")\t\n",
    "            var_matrix[i][j]=var\n",
    "    return var_matrix\n",
    "\n",
    "model_H0 = QbVrt.QUBO()\n",
    "model_H1 = QbVrt.QUBO()\n",
    "\n",
    "coeff = []\n",
    "\n",
    "# creazione della funzione obiettivo per H0\n",
    "def create_H0(n_assets, precision, MatCov, model_H0, coeff):\n",
    "    for i in range(n_assets):\n",
    "        for j in range(i, n_assets):\n",
    "            for k in range(precision-1):\n",
    "                for l in range(precision-1):\n",
    "                    model_H0-=MatCov[i][j]*(coeff[k]*x[i][k])*(coeff[l]*x[j][l])\n",
    "    return model_H0\n",
    "mu = []\n",
    "# creazione della funzione obiettivo per H1\n",
    "def create_H1(n_assets, precision, mu, model_H1, coeff):\n",
    "    for i in range(n_assets):\n",
    "        for j in range(precision-1):\n",
    "            model_H1-=(mu[i]*coeff[j]*x[i][j]-1)**2\n",
    "    return model_H1\n",
    "l0 = 0.7\n",
    "l1 = 300\n",
    "l2 = 0.5\n",
    "model=QbVrt.QUBO()\n",
    "model = l0*model_H0 + l1*model_H1\n",
    "\n",
    "solution = anneal_qubo(model,  num_anneals=10)\n",
    "\n",
    "\n",
    "\n",
    "\n",
    "0,0,0,1,0"
   ]
  },
  {
   "cell_type": "markdown",
   "id": "cf16765134a40357",
   "metadata": {},
   "source": [
    "## Formulation for diversified portfolio Optimization"
   ]
  },
  {
   "cell_type": "code",
   "execution_count": 14,
   "id": "a992b55a",
   "metadata": {},
   "outputs": [
    {
     "name": "stdout",
     "output_type": "stream",
     "text": [
      "[[None, None, None, None, None], [None, None, None, None, None], [None, None, None, None, None], [None, None, None, None, None], [None, None, None, None, None]]\n",
      "[[{('x_00',): 1}, {('x_01',): 1}, {('x_02',): 1}, {('x_03',): 1}, {('x_04',): 1}], [{('x_10',): 1}, {('x_11',): 1}, {('x_12',): 1}, {('x_13',): 1}, {('x_14',): 1}], [{('x_20',): 1}, {('x_21',): 1}, {('x_22',): 1}, {('x_23',): 1}, {('x_24',): 1}], [{('x_30',): 1}, {('x_31',): 1}, {('x_32',): 1}, {('x_33',): 1}, {('x_34',): 1}], [{('x_40',): 1}, {('x_41',): 1}, {('x_42',): 1}, {('x_43',): 1}, {('x_44',): 1}]]\n"
     ]
    }
   ],
   "source": [
    "model_H2 = QbVrt.QUBO()\n",
    "temp= QbVrt.QUBO()\n",
    "f = [] #da definire\n",
    "D = [] #da definire\n",
    "# creazione della funzione obiettivo per H2\n",
    "def create_H2(n_assets, precision, model_H2, f, D):\n",
    "    temp= QbVrt.QUBO()\n",
    "    temp2= QbVrt.QUBO()\n",
    "    for i in range(n_assets):\n",
    "        for j in range(precision-1):\n",
    "            temp+=f[i]*x[i][j]\n",
    "    \n",
    "    for i in range(n_assets):\n",
    "        for k in range(precision-1):\n",
    "            for j in range(n_assets):\n",
    "                for l in range(precision-1):\n",
    "                    temp2+=D[i][j]*x[i][k]*x[j][l]\n",
    "    model_H2=-temp-temp2\n",
    "    return model_H2\n",
    "\n",
    "model = l0*model_H0 + l1*model_H1 + l2*model_H2\n"
   ]
  }
 ],
 "metadata": {
  "kernelspec": {
   "display_name": "Python 3",
   "language": "python",
   "name": "python3"
  },
  "language_info": {
   "codemirror_mode": {
    "name": "ipython",
    "version": 3
   },
   "file_extension": ".py",
   "mimetype": "text/x-python",
   "name": "python",
   "nbconvert_exporter": "python",
   "pygments_lexer": "ipython3",
   "version": "3.10.12"
  }
 },
 "nbformat": 4,
 "nbformat_minor": 5
}
