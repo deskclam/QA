{
 "cells": [
  {
   "cell_type": "code",
   "execution_count": 6,
   "id": "b3a7253b36a9f772",
   "metadata": {
    "ExecuteTime": {
     "end_time": "2024-12-06T23:29:13.222193Z",
     "start_time": "2024-12-06T23:29:13.207208Z"
    }
   },
   "outputs": [],
   "source": [
    "#Lettura del file assets_dataset.csv\n",
    "File_Assets=open(\"assets_dataset.csv\", \"r\")\n",
    "File_Cov=open(\"./assets_cov_matrix.csv\", \"r\")\n",
    "vet = {}\n",
    "for count, i in enumerate(File_Assets):\n",
    "    if count!=0:\n",
    "        id=i.split(\"_\")[1].split(\",\")[0]\n",
    "        num1=i.split(\",\")[1].strip()\n",
    "        num2=i.split(\",\")[2].strip()\n",
    "        vet[int(id)]=[float(num1),float(num2)]"
   ]
  },
  {
   "cell_type": "code",
   "execution_count": 7,
   "id": "9000e6d37a5c9298",
   "metadata": {
    "ExecuteTime": {
     "end_time": "2024-12-06T23:29:16.246740Z",
     "start_time": "2024-12-06T23:29:16.134773Z"
    }
   },
   "outputs": [],
   "source": [
    "#Lettura del file assets_cov_matrix.csv\n",
    "MatCov=[]\n",
    "n=[]\n",
    "for count, i in enumerate(File_Cov):\n",
    "    if count!=0:\n",
    "        n=i.split(\",\")\n",
    "        for j in range(500-1):\n",
    "            n[j]=float(n[j+1])\n",
    "        MatCov.append(n)"
   ]
  },
  {
   "cell_type": "code",
   "execution_count": 13,
   "id": "bdf806d1189669aa",
   "metadata": {
    "ExecuteTime": {
     "end_time": "2024-12-03T13:21:33.609812Z",
     "start_time": "2024-12-03T13:21:33.554243Z"
    }
   },
   "outputs": [
    {
     "ename": "IndexError",
     "evalue": "list index out of range",
     "output_type": "error",
     "traceback": [
      "\u001b[0;31m---------------------------------------------------------------------------\u001b[0m",
      "\u001b[0;31mIndexError\u001b[0m                                Traceback (most recent call last)",
      "Cell \u001b[0;32mIn[13], line 28\u001b[0m\n\u001b[1;32m     26\u001b[0m         \u001b[38;5;28;01mfor\u001b[39;00m k \u001b[38;5;129;01min\u001b[39;00m \u001b[38;5;28mrange\u001b[39m(precision\u001b[38;5;241m-\u001b[39m\u001b[38;5;241m1\u001b[39m):\n\u001b[1;32m     27\u001b[0m             \u001b[38;5;28;01mfor\u001b[39;00m l \u001b[38;5;129;01min\u001b[39;00m \u001b[38;5;28mrange\u001b[39m(precision\u001b[38;5;241m-\u001b[39m\u001b[38;5;241m1\u001b[39m):\n\u001b[0;32m---> 28\u001b[0m                 model_H0\u001b[38;5;241m+\u001b[39m\u001b[38;5;241m=\u001b[39mMatCov[i][j]\u001b[38;5;241m*\u001b[39m(\u001b[43mcoeff\u001b[49m\u001b[43m[\u001b[49m\u001b[43mk\u001b[49m\u001b[43m]\u001b[49m)\n\u001b[1;32m     32\u001b[0m \u001b[38;5;66;03m#solution = anneal_qubo(model,  num_anneals=10)\u001b[39;00m\n\u001b[1;32m     37\u001b[0m \u001b[38;5;241m0\u001b[39m,\u001b[38;5;241m0\u001b[39m,\u001b[38;5;241m0\u001b[39m,\u001b[38;5;241m1\u001b[39m,\u001b[38;5;241m0\u001b[39m\n",
      "\u001b[0;31mIndexError\u001b[0m: list index out of range"
     ]
    }
   ],
   "source": [
    "import qubovert as QbVrt\n",
    "from qubovert.sim import anneal_qubo\n",
    "\n",
    "n_assets = 500\n",
    "precision = 12\n",
    "\n",
    "#Creazione delle variabili booleane\n",
    "#x_i=1 se l'asset i è presente nel portafoglio, x_i=0 altrimenti\n",
    "def create_boolean_variables(n_assets):\n",
    "    # Creazione della matrice delle variabili booleane, inizializzate a None\n",
    "    var_matrix = vars = [[None for j in range(n_assets)] for i in range(n_assets)]\n",
    "    for i in range(n_assets):\n",
    "        for j in range (n_assets):\n",
    "            var = QbVrt.boolean_var(f\"x_{i}{j}\")\t\n",
    "            var_matrix[i][j]=var;\n",
    "    return var_matrix\n",
    "\n",
    "model_H0 = QbVrt.QUBO()\n",
    "model_H1 = QbVrt.QUBO()\n",
    "\n",
    "coeff = []\n",
    "\n",
    "# creazione della funzione obiettivo per H0\n",
    "def create_H0(n_assets, precision, MatCov, model_H0, coeff):\n",
    "    for i in range(n_assets):\n",
    "        for j in range(i, n_assets):\n",
    "            for k in range(precision-1):\n",
    "                for l in range(precision-1):\n",
    "                    model_H0-=MatCov[i][j]*(coeff[k]*x[i][k])*(coeff[l]*x[j][l])\n",
    "    return model_H0\n",
    "    \n",
    "\n",
    "\n",
    "#solution = anneal_qubo(model,  num_anneals=10)\n",
    "\n",
    "\n",
    "\n",
    "\n",
    "0,0,0,1,0"
   ]
  },
  {
   "cell_type": "markdown",
   "id": "cf16765134a40357",
   "metadata": {},
   "source": []
  },
  {
   "cell_type": "code",
   "execution_count": 14,
   "id": "a992b55a",
   "metadata": {},
   "outputs": [
    {
     "name": "stdout",
     "output_type": "stream",
     "text": [
      "[[None, None, None, None, None], [None, None, None, None, None], [None, None, None, None, None], [None, None, None, None, None], [None, None, None, None, None]]\n",
      "[[{('x_00',): 1}, {('x_01',): 1}, {('x_02',): 1}, {('x_03',): 1}, {('x_04',): 1}], [{('x_10',): 1}, {('x_11',): 1}, {('x_12',): 1}, {('x_13',): 1}, {('x_14',): 1}], [{('x_20',): 1}, {('x_21',): 1}, {('x_22',): 1}, {('x_23',): 1}, {('x_24',): 1}], [{('x_30',): 1}, {('x_31',): 1}, {('x_32',): 1}, {('x_33',): 1}, {('x_34',): 1}], [{('x_40',): 1}, {('x_41',): 1}, {('x_42',): 1}, {('x_43',): 1}, {('x_44',): 1}]]\n"
     ]
    }
   ],
   "source": [
    "\n",
    "print(create_boolean_variables(5))"
   ]
  }
 ],
 "metadata": {
  "kernelspec": {
   "display_name": "Python 3",
   "language": "python",
   "name": "python3"
  },
  "language_info": {
   "codemirror_mode": {
    "name": "ipython",
    "version": 3
   },
   "file_extension": ".py",
   "mimetype": "text/x-python",
   "name": "python",
   "nbconvert_exporter": "python",
   "pygments_lexer": "ipython3",
   "version": "3.10.12"
  }
 },
 "nbformat": 4,
 "nbformat_minor": 5
}
